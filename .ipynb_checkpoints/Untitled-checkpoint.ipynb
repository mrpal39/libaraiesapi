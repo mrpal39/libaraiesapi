{
 "cells": [
  {
   "cell_type": "code",
   "execution_count": 21,
   "id": "be453f1d",
   "metadata": {},
   "outputs": [
    {
     "name": "stdout",
     "output_type": "stream",
     "text": [
      "github.com/gorilla/websocket\n"
     ]
    }
   ],
   "source": [
    "from urllib.parse import urlparse , urlencode,unquote,unquote_to_bytes,unquote_plus\n",
    "\n",
    "payload =\"github.com%2Fgorilla%2Fwebsocket\"\n",
    "\n",
    "query = unquote_plus(payload)\n",
    "print(query)"
   ]
  },
  {
   "cell_type": "code",
   "execution_count": null,
   "id": "e5d0de69",
   "metadata": {},
   "outputs": [],
   "source": []
  }
 ],
 "metadata": {
  "kernelspec": {
   "display_name": "Python 3",
   "language": "python",
   "name": "python3"
  },
  "language_info": {
   "codemirror_mode": {
    "name": "ipython",
    "version": 3
   },
   "file_extension": ".py",
   "mimetype": "text/x-python",
   "name": "python",
   "nbconvert_exporter": "python",
   "pygments_lexer": "ipython3",
   "version": "3.8.5"
  }
 },
 "nbformat": 4,
 "nbformat_minor": 5
}
